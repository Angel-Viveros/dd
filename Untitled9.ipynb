{
  "nbformat": 4,
  "nbformat_minor": 0,
  "metadata": {
    "colab": {
      "name": "Untitled9.ipynb",
      "provenance": []
    },
    "kernelspec": {
      "name": "python3",
      "display_name": "Python 3"
    },
    "language_info": {
      "name": "python"
    }
  },
  "cells": [
    {
      "cell_type": "code",
      "metadata": {
        "colab": {
          "base_uri": "https://localhost:8080/"
        },
        "id": "F1UnYSuDxoqw",
        "outputId": "cb2a5ae0-1144-4302-cdbe-5459afae2f3b"
      },
      "source": [
        "import numpy\n",
        "m=int(input('insertar el numero de renglones:'))\n",
        "n=int(input('inserta el numero de columnas:'))\n",
        "matrix=numpy.zeros((m,n))\n",
        "x=numpy.zeros((m))\n",
        "\n",
        "vector=numpy.zeros((n))\n",
        "comp=numpy.zeros((m))\n",
        "error=[]\n",
        "\n",
        "print('-----------------------------------------')\n",
        "print('        Metodo Jacobi')\n",
        "print('-----------------------------------------')\n",
        "print('Introduce la matriz ')\n",
        "for r in range(0,m):\n",
        "    for c in range(0,n):\n",
        "        matrix[(r),(c)]=float(input(\"Elemento a[\" +str(r+1)+str(c+1)+\"]:\"))\n",
        "    vector[(r)]=float(input('b['+str(r+1)+']:'))\n",
        "tol =float(input(\"¿Cuanto error desea?\"))\n",
        "itera=int(input(\"¿Cuál es el número maximo de iteraciones\" ))\n",
        "\n",
        "print(matrix)"
      ],
      "execution_count": 37,
      "outputs": [
        {
          "output_type": "stream",
          "name": "stdout",
          "text": [
            "insertar el numero de renglones:3\n",
            "inserta el numero de columnas:3\n",
            "-----------------------------------------\n",
            "        Metodo Jacobi\n",
            "-----------------------------------------\n",
            "Introduce la matriz \n",
            "Elemento a[11]:6\n",
            "Elemento a[12]:7\n",
            "Elemento a[13]:8\n",
            "b[1]:54\n",
            "Elemento a[21]:6\n",
            "Elemento a[22]:7\n",
            "Elemento a[23]:4\n",
            "b[2]:12\n",
            "Elemento a[31]:5\n",
            "Elemento a[32]:6\n",
            "Elemento a[33]:7\n",
            "b[3]:12\n",
            "¿Cuanto error desea?1000000\n",
            "¿Cuál es el número maximo de iteraciones10\n",
            "[[6. 7. 8.]\n",
            " [6. 7. 4.]\n",
            " [5. 6. 7.]]\n"
          ]
        }
      ]
    },
    {
      "cell_type": "code",
      "metadata": {
        "id": "y5Hyd2tAt1Os",
        "colab": {
          "base_uri": "https://localhost:8080/"
        },
        "outputId": "5a38b2d9-e31a-481d-bc23-aac461f5940d"
      },
      "source": [
        "#Variables con valores iniciales\n",
        "\n",
        "k=0\n",
        "\n",
        "while k < itera and tol > tolerancia:\n",
        "    print(\"iteración: \", k)\n",
        "    for i in range(n):\n",
        "        sumatoria = 0\n",
        "        for j in range(n):\n",
        "            if i != j:\n",
        "                sumatoria += (A[i][j] * x[j])\n",
        "        x[i] = (b[i]-sumatoria) / A[i][i]\n",
        "        print(\"x(\",i,\"): \", x[i])\n",
        "\n",
        "    tol = np.linalg.norm(x-x1)\n",
        "    error1.append(error)\n",
        "    x1 = np.copy(x)\n",
        "\n",
        "    print(\"Error: \", error1[k])\n",
        "    print()\n",
        "\n",
        "    k += 1\n",
        "\n",
        "\n",
        "print(\"\")\n",
        "print('solucion: ' , np.linalg.solve(A,b))"
      ],
      "execution_count": 38,
      "outputs": [
        {
          "output_type": "stream",
          "name": "stdout",
          "text": [
            "iteración:  0\n",
            "x( 0 ):  29.41176470588235\n",
            "x( 1 ):  -16.526610644257705\n",
            "x( 2 ):  4.292080468551057\n",
            "Error:  0\n",
            "\n",
            "\n",
            "solucion:  [ 28.16176471 -16.60892323   3.98928215]\n"
          ]
        }
      ]
    }
  ]
}